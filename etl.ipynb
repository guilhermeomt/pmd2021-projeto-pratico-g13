{
 "cells": [
  {
   "cell_type": "markdown",
   "metadata": {},
   "source": [
    "# ETL com Apache Spark e MongoDB\n",
    "## Grupo 13\n",
    "\n",
    "\n",
    "Este notebook realiza o processo ETL utilizando Apache Spark e MongoDB. Para mais detalhes leia o [README.md](https://github.com/guilhermeomt/pmd2021-projeto-pratico-g13/blob/main/README.md) do projeto."
   ]
  },
  {
   "cell_type": "code",
   "execution_count": 1,
   "id": "cc8b33f0",
   "metadata": {},
   "outputs": [],
   "source": [
    "from pyspark.sql import SparkSession\n",
    "from pyspark.sql.functions import col, when, split, struct, collect_list, regexp_replace\n",
    "\n",
    "\n",
    "spark = SparkSession \\\n",
    "    .builder \\\n",
    "    .config(\"spark.mongodb.output.uri\", \"mongodb://127.0.0.1/PMD2021.universities\") \\\n",
    "    .config(\"spark.jars.packages\", \"org.mongodb.spark:mongo-spark-connector_2.12:3.0.1\") \\\n",
    "    .getOrCreate()"
   ]
  },
  {
   "cell_type": "markdown",
   "metadata": {},
   "source": [
    "## Extração de dados"
   ]
  },
  {
   "cell_type": "code",
   "execution_count": 2,
   "id": "7cbcdb07",
   "metadata": {},
   "outputs": [],
   "source": [
    "df = spark.read.load(\"data/timesData.csv\",\n",
    "                     format=\"csv\", sep=\",\", inferSchema=\"true\", header=\"true\")\n",
    "df = df.select(\"world_rank\", \"university_name\", \"country\", \"total_score\",  \n",
    "\"num_students\", \"international_students\", \"female_male_ratio\", \"year\")\n",
    "df = df.filter(df[\"total_score\"] != \"-\")"
   ]
  },
  {
   "cell_type": "markdown",
   "metadata": {},
   "source": [
    "## Transformação de dados"
   ]
  },
  {
   "cell_type": "code",
   "execution_count": 3,
   "id": "c32affae",
   "metadata": {},
   "outputs": [],
   "source": [
    "split_col = split(df['female_male_ratio'], ':')\n",
    "df = df.withColumn('female_ratio', split_col.getItem(0) / 100)\n",
    "df = df.withColumn('male_ratio', split_col.getItem(1) / 100)\n",
    "df = df.drop('female_male_ratio')"
   ]
  },
  {
   "cell_type": "code",
   "execution_count": 4,
   "metadata": {},
   "outputs": [],
   "source": [
    "split_col = split(df['international_students'], '%')\n",
    "df = df.withColumn('international_students', split_col.getItem(0) / 100)"
   ]
  },
  {
   "cell_type": "code",
   "execution_count": 5,
   "metadata": {},
   "outputs": [],
   "source": [
    "df = df.withColumn('num_students', regexp_replace('num_students',',', '').cast('int'))"
   ]
  },
  {
   "cell_type": "code",
   "execution_count": 6,
   "id": "6ca76160",
   "metadata": {},
   "outputs": [],
   "source": [
    "auxDf = df.groupBy(df[\"university_name\"]) \\\n",
    "          .agg({\"total_score\":\"avg\"}) \\\n",
    "          .withColumnRenamed(\"avg(total_score)\", \"avg_score\")"
   ]
  },
  {
   "cell_type": "code",
   "execution_count": 7,
   "id": "b939f5f4",
   "metadata": {},
   "outputs": [],
   "source": [
    "auxDf = auxDf.withColumn(\"category\", \\\n",
    "                                        when(col(\"avg_score\") >= 91, \"A\") \\\n",
    "                                       .when(col(\"avg_score\") >= 81, \"B\") \\\n",
    "                                       .when(col(\"avg_score\") >= 71, \"C\") \\\n",
    "                                       .when(col(\"avg_score\") >= 51, \"D\") \\\n",
    "                                       .otherwise(\"E\"))"
   ]
  },
  {
   "cell_type": "code",
   "execution_count": 13,
   "metadata": {},
   "outputs": [],
   "source": [
    "rankingDf = df.withColumn('ranking', struct(col(\"world_rank\").alias('rank'), \n",
    "                           col(\"year\"), col(\"total_score\").alias('score')))\n",
    "\n",
    "rankingDf = rankingDf.groupBy(\"university_name\") \\\n",
    "                     .agg(collect_list('ranking').alias('ranking'))"
   ]
  },
  {
   "cell_type": "code",
   "execution_count": null,
   "id": "d2f81d25",
   "metadata": {
    "scrolled": false
   },
   "outputs": [],
   "source": [
    "auxDf = auxDf.withColumnRenamed(\"university_name\", \"name\")\n",
    "\n",
    "df = df.join(auxDf, df.university_name == auxDf.name, 'inner') \\\n",
    ".select(df.university_name, df.country, \n",
    "df.num_students, df.international_students, df.female_ratio, \n",
    "df.male_ratio, auxDf.avg_score, auxDf.category)"
   ]
  },
  {
   "cell_type": "code",
   "execution_count": null,
   "metadata": {},
   "outputs": [],
   "source": [
    "rankingDf = rankingDf.withColumnRenamed(\"university_name\", \"name\")\n",
    "\n",
    "df = df.join(rankingDf, df.university_name == rankingDf.name, 'inner') \\\n",
    ".select(df.university_name, df.country, df.num_students, \n",
    "df.international_students, df.female_ratio, df.male_ratio, df.category, \n",
    "df.avg_score, rankingDf.ranking).distinct()"
   ]
  },
  {
   "cell_type": "markdown",
   "metadata": {},
   "source": [
    "## Carregamento de dados"
   ]
  },
  {
   "cell_type": "code",
   "execution_count": null,
   "id": "88a49726",
   "metadata": {},
   "outputs": [],
   "source": [
    "df.write.format(\"mongo\").mode(\"append\").save()"
   ]
  }
 ],
 "metadata": {
  "interpreter": {
   "hash": "31f2aee4e71d21fbe5cf8b01ff0e069b9275f58929596ceb00d14d90e3e16cd6"
  },
  "kernelspec": {
   "display_name": "Python 3.6.9 64-bit",
   "name": "python3"
  },
  "language_info": {
   "codemirror_mode": {
    "name": "ipython",
    "version": 3
   },
   "file_extension": ".py",
   "mimetype": "text/x-python",
   "name": "python",
   "nbconvert_exporter": "python",
   "pygments_lexer": "ipython3",
   "version": "3.6.9"
  }
 },
 "nbformat": 4,
 "nbformat_minor": 5
}
