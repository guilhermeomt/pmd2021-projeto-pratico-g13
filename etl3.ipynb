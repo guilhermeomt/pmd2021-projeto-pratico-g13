{
 "cells": [
  {
   "cell_type": "code",
   "execution_count": 37,
   "id": "cc8b33f0",
   "metadata": {},
   "outputs": [],
   "source": [
    "from pyspark.sql import SparkSession\n",
    "from pyspark.sql.types import StringType\n",
    "from pyspark.sql.functions import split\n",
    "from pyspark.sql.functions import col, when \n",
    "\n",
    "spark = SparkSession \\\n",
    "    .builder \\\n",
    "    .appName(\"Python Spark SQL basic example\") \\\n",
    "    .config(\"spark.some.config.option\", \"some-value\") \\\n",
    "    .getOrCreate()"
   ]
  },
  {
   "cell_type": "code",
   "execution_count": 25,
   "id": "7cbcdb07",
   "metadata": {},
   "outputs": [],
   "source": [
    "df = spark.read.load(\"data/timesData.csv\",\n",
    "                     format=\"csv\", sep=\",\", inferSchema=\"true\", header=\"true\")\n",
    "df = df.select(\"world_rank\", \"university_name\", \"country\", \"total_score\", \"num_students\", \"international_students\", \"female_male_ratio\", \"year\")\n",
    "df = df.filter(df[\"total_score\"] != \"-\")\n"
   ]
  },
  {
   "cell_type": "code",
   "execution_count": 42,
   "id": "6ca76160",
   "metadata": {},
   "outputs": [
    {
     "name": "stdout",
     "output_type": "stream",
     "text": [
      "+--------------------+------------------+\n",
      "|     university_name|             media|\n",
      "+--------------------+------------------+\n",
      "| New York University| 70.03333333333333|\n",
      "|  Cornell University| 81.69999999999999|\n",
      "|University of St ...| 55.71666666666666|\n",
      "|University of Kon...| 46.86666666666667|\n",
      "|   Yonsei University| 46.73333333333333|\n",
      "|Pennsylvania Stat...| 62.68333333333333|\n",
      "|    Ghent University| 55.68333333333334|\n",
      "|Erasmus Universit...|56.666666666666664|\n",
      "|University of Col...|              52.3|\n",
      "|Scuola Superiore ...|              50.2|\n",
      "|University Colleg...|             49.72|\n",
      "|Newcastle University|              48.1|\n",
      "|Washington Univer...| 69.03333333333333|\n",
      "|Lancaster University|             52.25|\n",
      "|Stockholm University| 53.45000000000001|\n",
      "|  Indiana University|             50.92|\n",
      "|Queen’s Universit...|              48.8|\n",
      "|University of Oxford|              93.3|\n",
      "|Tokyo Institute o...| 52.71999999999999|\n",
      "|     Yale University| 88.35000000000001|\n",
      "+--------------------+------------------+\n",
      "only showing top 20 rows\n",
      "\n"
     ]
    }
   ],
   "source": [
    "filtro = df.groupBy(df[\"university_name\"]).agg({\"total_score\":\"avg\"}).withColumnRenamed(\"avg(total_score)\", \"media\")\n",
    "filtro.show()"
   ]
  },
  {
   "cell_type": "code",
   "execution_count": 41,
   "id": "b939f5f4",
   "metadata": {},
   "outputs": [
    {
     "name": "stdout",
     "output_type": "stream",
     "text": [
      "+--------------------+------------------+---------+\n",
      "|     university_name|             media|categoria|\n",
      "+--------------------+------------------+---------+\n",
      "| New York University| 70.03333333333333|        D|\n",
      "|  Cornell University| 81.69999999999999|        B|\n",
      "|University of St ...| 55.71666666666666|        D|\n",
      "|University of Kon...| 46.86666666666667|        E|\n",
      "|   Yonsei University| 46.73333333333333|        E|\n",
      "|Pennsylvania Stat...| 62.68333333333333|        D|\n",
      "|    Ghent University| 55.68333333333334|        D|\n",
      "|Erasmus Universit...|56.666666666666664|        D|\n",
      "|University of Col...|              52.3|        D|\n",
      "|Scuola Superiore ...|              50.2|        E|\n",
      "|University Colleg...|             49.72|        E|\n",
      "|Newcastle University|              48.1|        E|\n",
      "|Washington Univer...| 69.03333333333333|        D|\n",
      "|Lancaster University|             52.25|        D|\n",
      "|Stockholm University| 53.45000000000001|        D|\n",
      "|  Indiana University|             50.92|        E|\n",
      "|Queen’s Universit...|              48.8|        E|\n",
      "|University of Oxford|              93.3|        A|\n",
      "|Tokyo Institute o...| 52.71999999999999|        D|\n",
      "|     Yale University| 88.35000000000001|        B|\n",
      "+--------------------+------------------+---------+\n",
      "only showing top 20 rows\n",
      "\n"
     ]
    }
   ],
   "source": [
    "def Categorizar(row):\n",
    "    score = row.media\n",
    "    if  score >= 91:\n",
    "        cat = 'A'\n",
    "    elif score >= 81:\n",
    "        cat = 'B'\n",
    "    elif score >= 71:\n",
    "        cat = 'C'\n",
    "    elif score >= 51:\n",
    "        cat = 'D'\n",
    "    else:\n",
    "        cat = 'E'\n",
    "    return cat\n",
    "\n",
    "\n",
    "\n",
    "filtro = filtro.withColumn(\"categoria\", \\\n",
    "                                        when(col(\"media\") >= 91, \"A\") \\\n",
    "                                       .when(col(\"media\") >= 81, \"B\") \\\n",
    "                                       .when(col(\"media\") >= 71, \"C\") \\\n",
    "                                       .when(col(\"media\") >= 51, \"D\") \\\n",
    "                                       .otherwise(\"E\"))\n",
    "\n",
    "filtro.show()"
   ]
  },
  {
   "cell_type": "code",
   "execution_count": null,
   "id": "1655e635",
   "metadata": {},
   "outputs": [],
   "source": []
  }
 ],
 "metadata": {
  "kernelspec": {
   "display_name": "Python 3 (ipykernel)",
   "language": "python",
   "name": "python3"
  },
  "language_info": {
   "codemirror_mode": {
    "name": "ipython",
    "version": 3
   },
   "file_extension": ".py",
   "mimetype": "text/x-python",
   "name": "python",
   "nbconvert_exporter": "python",
   "pygments_lexer": "ipython3",
   "version": "3.8.10"
  }
 },
 "nbformat": 4,
 "nbformat_minor": 5
}
