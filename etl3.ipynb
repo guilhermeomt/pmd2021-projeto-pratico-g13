{
 "cells": [
  {
   "cell_type": "code",
   "execution_count": 9,
   "id": "cc8b33f0",
   "metadata": {},
   "outputs": [],
   "source": [
    "from pyspark.sql import SparkSession\n",
    "from pyspark.sql.types import StringType\n",
    "from pyspark.sql.functions import split\n",
    "from pyspark.sql.functions import col, when \n",
    "\n",
    "spark = SparkSession \\\n",
    "    .builder \\\n",
    "    .appName(\"Python Spark SQL basic example\") \\\n",
    "    .config(\"spark.some.config.option\", \"some-value\") \\\n",
    "    .getOrCreate()"
   ]
  },
  {
   "cell_type": "code",
   "execution_count": 2,
   "id": "7cbcdb07",
   "metadata": {},
   "outputs": [],
   "source": [
    "df = spark.read.load(\"data/timesData.csv\",\n",
    "                     format=\"csv\", sep=\",\", inferSchema=\"true\", header=\"true\")\n",
    "df = df.select(\"world_rank\", \"university_name\", \"country\", \"total_score\", \"num_students\", \"international_students\", \"female_male_ratio\", \"year\")\n",
    "df = df.filter(df[\"total_score\"] != \"-\")\n"
   ]
  },
  {
   "cell_type": "code",
   "execution_count": 34,
   "id": "4907c2fe",
   "metadata": {},
   "outputs": [
    {
     "name": "stdout",
     "output_type": "stream",
     "text": [
      "+----------+--------------------+--------------------+-----------+------------+----------------------+----+------------+----------+\n",
      "|world_rank|     university_name|             country|total_score|num_students|international_students|year|female_ratio|male_ratio|\n",
      "+----------+--------------------+--------------------+-----------+------------+----------------------+----+------------+----------+\n",
      "|         1|  Harvard University|United States of ...|       96.1|      20,152|                   25%|2011|        null|      null|\n",
      "|         2|California Instit...|United States of ...|       96.0|       2,243|                   27%|2011|        0.33|      0.67|\n",
      "|         3|Massachusetts Ins...|United States of ...|       95.6|      11,074|                   33%|2011|        0.37|      0.63|\n",
      "|         4| Stanford University|United States of ...|       94.3|      15,596|                   22%|2011|        0.42|      0.58|\n",
      "|         5|Princeton University|United States of ...|       94.2|       7,929|                   27%|2011|        0.45|      0.55|\n",
      "|         6|University of Cam...|      United Kingdom|       91.2|      18,812|                   34%|2011|        0.46|      0.54|\n",
      "|         6|University of Oxford|      United Kingdom|       91.2|      19,919|                   34%|2011|        0.46|      0.54|\n",
      "|         8|University of Cal...|United States of ...|       91.1|      36,186|                   15%|2011|         0.5|       0.5|\n",
      "|         9|Imperial College ...|      United Kingdom|       90.6|      15,060|                   51%|2011|        0.37|      0.63|\n",
      "|        10|     Yale University|United States of ...|       89.5|      11,751|                   20%|2011|         0.5|       0.5|\n",
      "|        11|University of Cal...|United States of ...|       87.7|      38,206|                   15%|2011|        0.52|      0.48|\n",
      "|        12|University of Chi...|United States of ...|       86.9|      14,221|                   21%|2011|        0.42|      0.58|\n",
      "|        13|Johns Hopkins Uni...|United States of ...|       86.4|      15,128|                   23%|2011|         0.5|       0.5|\n",
      "|        14|  Cornell University|United States of ...|       83.9|      21,424|                   19%|2011|        0.48|      0.52|\n",
      "|        15|ETH Zurich – Swis...|         Switzerland|       83.4|      18,178|                   37%|2011|        0.31|      0.69|\n",
      "|        15|University of Mic...|United States of ...|       83.4|      41,786|                   16%|2011|        0.48|      0.52|\n",
      "|        17|University of Tor...|              Canada|       82.0|      66,198|                   15%|2011|        null|      null|\n",
      "|        18| Columbia University|United States of ...|       81.0|      25,055|                   28%|2011|        null|      null|\n",
      "|        19|University of Pen...|United States of ...|       79.5|      20,376|                   20%|2011|        0.51|      0.49|\n",
      "|        20|Carnegie Mellon U...|United States of ...|       79.3|      11,885|                   35%|2011|        0.39|      0.61|\n",
      "+----------+--------------------+--------------------+-----------+------------+----------------------+----+------------+----------+\n",
      "only showing top 20 rows\n",
      "\n"
     ]
    }
   ],
   "source": [
    "split_col = split(df['female_male_ratio'], ':')\n",
    "df = df.withColumn('female_ratio', split_col.getItem(0) / 100)\n",
    "df = df.withColumn('male_ratio', split_col.getItem(1) / 100)\n",
    "df = df.drop('female_male_ratio')"
   ]
  },
  {
   "cell_type": "code",
   "execution_count": 39,
   "id": "6ca76160",
   "metadata": {},
   "outputs": [
    {
     "name": "stdout",
     "output_type": "stream",
     "text": [
      "+----------+--------------------+--------------------+-----------+------------+----------------------+----+------------+----------+\n",
      "|world_rank|     university_name|             country|total_score|num_students|international_students|year|female_ratio|male_ratio|\n",
      "+----------+--------------------+--------------------+-----------+------------+----------------------+----+------------+----------+\n",
      "|         1|  Harvard University|United States of ...|       96.1|      20,152|                   25%|2011|        null|      null|\n",
      "|         2|California Instit...|United States of ...|       96.0|       2,243|                   27%|2011|        0.33|      0.67|\n",
      "|         3|Massachusetts Ins...|United States of ...|       95.6|      11,074|                   33%|2011|        0.37|      0.63|\n",
      "|         4| Stanford University|United States of ...|       94.3|      15,596|                   22%|2011|        0.42|      0.58|\n",
      "|         5|Princeton University|United States of ...|       94.2|       7,929|                   27%|2011|        0.45|      0.55|\n",
      "|         6|University of Cam...|      United Kingdom|       91.2|      18,812|                   34%|2011|        0.46|      0.54|\n",
      "|         6|University of Oxford|      United Kingdom|       91.2|      19,919|                   34%|2011|        0.46|      0.54|\n",
      "|         8|University of Cal...|United States of ...|       91.1|      36,186|                   15%|2011|         0.5|       0.5|\n",
      "|         9|Imperial College ...|      United Kingdom|       90.6|      15,060|                   51%|2011|        0.37|      0.63|\n",
      "|        10|     Yale University|United States of ...|       89.5|      11,751|                   20%|2011|         0.5|       0.5|\n",
      "|        11|University of Cal...|United States of ...|       87.7|      38,206|                   15%|2011|        0.52|      0.48|\n",
      "|        12|University of Chi...|United States of ...|       86.9|      14,221|                   21%|2011|        0.42|      0.58|\n",
      "|        13|Johns Hopkins Uni...|United States of ...|       86.4|      15,128|                   23%|2011|         0.5|       0.5|\n",
      "|        14|  Cornell University|United States of ...|       83.9|      21,424|                   19%|2011|        0.48|      0.52|\n",
      "|        15|ETH Zurich – Swis...|         Switzerland|       83.4|      18,178|                   37%|2011|        0.31|      0.69|\n",
      "|        15|University of Mic...|United States of ...|       83.4|      41,786|                   16%|2011|        0.48|      0.52|\n",
      "|        17|University of Tor...|              Canada|       82.0|      66,198|                   15%|2011|        null|      null|\n",
      "|        18| Columbia University|United States of ...|       81.0|      25,055|                   28%|2011|        null|      null|\n",
      "|        19|University of Pen...|United States of ...|       79.5|      20,376|                   20%|2011|        0.51|      0.49|\n",
      "|        20|Carnegie Mellon U...|United States of ...|       79.3|      11,885|                   35%|2011|        0.39|      0.61|\n",
      "+----------+--------------------+--------------------+-----------+------------+----------------------+----+------------+----------+\n",
      "only showing top 20 rows\n",
      "\n",
      "+--------------------+------------------+\n",
      "|     university_name|             media|\n",
      "+--------------------+------------------+\n",
      "| New York University| 70.03333333333333|\n",
      "|  Cornell University| 81.69999999999999|\n",
      "|University of St ...| 55.71666666666666|\n",
      "|University of Kon...| 46.86666666666667|\n",
      "|   Yonsei University| 46.73333333333333|\n",
      "|Pennsylvania Stat...| 62.68333333333333|\n",
      "|    Ghent University| 55.68333333333334|\n",
      "|Erasmus Universit...|56.666666666666664|\n",
      "|University of Col...|              52.3|\n",
      "|Scuola Superiore ...|              50.2|\n",
      "|University Colleg...|             49.72|\n",
      "|Newcastle University|              48.1|\n",
      "|Washington Univer...| 69.03333333333333|\n",
      "|Lancaster University|             52.25|\n",
      "|Stockholm University| 53.45000000000001|\n",
      "|  Indiana University|             50.92|\n",
      "|Queen’s Universit...|              48.8|\n",
      "|University of Oxford|              93.3|\n",
      "|Tokyo Institute o...| 52.71999999999999|\n",
      "|     Yale University| 88.35000000000001|\n",
      "+--------------------+------------------+\n",
      "only showing top 20 rows\n",
      "\n"
     ]
    }
   ],
   "source": [
    "filtro = df.groupBy(df[\"university_name\"]).agg({\"total_score\":\"avg\"}).withColumnRenamed(\"avg(total_score)\", \"media\")\n",
    "filtro.show()"
   ]
  },
  {
   "cell_type": "code",
   "execution_count": 42,
   "id": "b939f5f4",
   "metadata": {},
   "outputs": [
    {
     "name": "stdout",
     "output_type": "stream",
     "text": [
      "+--------------------+------------------+---------+\n",
      "|     university_name|             media|categoria|\n",
      "+--------------------+------------------+---------+\n",
      "| New York University| 70.03333333333333|        D|\n",
      "|  Cornell University| 81.69999999999999|        B|\n",
      "|University of St ...| 55.71666666666666|        D|\n",
      "|University of Kon...| 46.86666666666667|        E|\n",
      "|   Yonsei University| 46.73333333333333|        E|\n",
      "|Pennsylvania Stat...| 62.68333333333333|        D|\n",
      "|    Ghent University| 55.68333333333334|        D|\n",
      "|Erasmus Universit...|56.666666666666664|        D|\n",
      "|University of Col...|              52.3|        D|\n",
      "|Scuola Superiore ...|              50.2|        E|\n",
      "|University Colleg...|             49.72|        E|\n",
      "|Newcastle University|              48.1|        E|\n",
      "|Washington Univer...| 69.03333333333333|        D|\n",
      "|Lancaster University|             52.25|        D|\n",
      "|Stockholm University| 53.45000000000001|        D|\n",
      "|  Indiana University|             50.92|        E|\n",
      "|Queen’s Universit...|              48.8|        E|\n",
      "|University of Oxford|              93.3|        A|\n",
      "|Tokyo Institute o...| 52.71999999999999|        D|\n",
      "|     Yale University| 88.35000000000001|        B|\n",
      "+--------------------+------------------+---------+\n",
      "only showing top 20 rows\n",
      "\n"
     ]
    }
   ],
   "source": [
    "filtro = filtro.withColumn(\"categoria\", \\\n",
    "                                        when(col(\"media\") >= 91, \"A\") \\\n",
    "                                       .when(col(\"media\") >= 81, \"B\") \\\n",
    "                                       .when(col(\"media\") >= 71, \"C\") \\\n",
    "                                       .when(col(\"media\") >= 51, \"D\") \\\n",
    "                                       .otherwise(\"E\"))\n",
    "\n",
    "filtro.show()"
   ]
  },
  {
   "cell_type": "code",
   "execution_count": null,
   "id": "798e28a3",
   "metadata": {},
   "outputs": [],
   "source": [
    "df = df.join(filtro, df.university_name == filtro.university_name, 'inner') \\\n",
    ".select(df.world_rank, df.university_name, df.country, df.total_score, df.num_students, df.international_students, df.female_ratio, df.male_ratio, df.year, filtro.media, filtro.categoria)\n",
    "\n",
    "df.write.save(\"tabela.csv\", format=\"csv\")"
   ]
  },
  {
   "cell_type": "code",
   "execution_count": null,
   "id": "f03aa5aa",
   "metadata": {},
   "outputs": [],
   "source": []
  }
 ],
 "metadata": {
  "kernelspec": {
   "display_name": "Python 3",
   "language": "python",
   "name": "python3"
  },
  "language_info": {
   "codemirror_mode": {
    "name": "ipython",
    "version": 3
   },
   "file_extension": ".py",
   "mimetype": "text/x-python",
   "name": "python",
   "nbconvert_exporter": "python",
   "pygments_lexer": "ipython3",
   "version": "3.6.9"
  }
 },
 "nbformat": 4,
 "nbformat_minor": 5
}
